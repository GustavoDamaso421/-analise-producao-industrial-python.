{
 "cells": [
  {
   "cell_type": "markdown",
   "id": "6370ffc8",
   "metadata": {},
   "source": [
    "# Análise de Dados da Linha de Produção de Papel\n",
    "\n",
    "**Autor:** Gustavo Damaso da Silveira\n",
    "**Data:** 12 de Setembro de 2025\n",
    "\n",
    "## 1. Introdução\n",
    "\n",
    "Este notebook apresenta uma análise exploratória dos dados de uma linha de produção de papel fictícia, simulando um ambiente industrial como o da WestRock. O objetivo é investigar a relação entre as variáveis de processo (temperatura, velocidade, umidade) e os diferentes tipos de produtos fabricados, utilizando as bibliotecas Pandas, Matplotlib e Seaborn."
   ]
  },
  {
   "cell_type": "code",
   "execution_count": 1,
   "id": "5ab27f22",
   "metadata": {},
   "outputs": [
    {
     "data": {
      "text/html": [
       "<div>\n",
       "<style scoped>\n",
       "    .dataframe tbody tr th:only-of-type {\n",
       "        vertical-align: middle;\n",
       "    }\n",
       "\n",
       "    .dataframe tbody tr th {\n",
       "        vertical-align: top;\n",
       "    }\n",
       "\n",
       "    .dataframe thead th {\n",
       "        text-align: right;\n",
       "    }\n",
       "</style>\n",
       "<table border=\"1\" class=\"dataframe\">\n",
       "  <thead>\n",
       "    <tr style=\"text-align: right;\">\n",
       "      <th></th>\n",
       "      <th>timestamp</th>\n",
       "      <th>temperatura_secador</th>\n",
       "      <th>velocidade_rolo_m_min</th>\n",
       "      <th>umidade_papel_percent</th>\n",
       "      <th>codigo_produto</th>\n",
       "    </tr>\n",
       "  </thead>\n",
       "  <tbody>\n",
       "    <tr>\n",
       "      <th>0</th>\n",
       "      <td>2025-09-10 01:00:00</td>\n",
       "      <td>95.5</td>\n",
       "      <td>850.1</td>\n",
       "      <td>5.5</td>\n",
       "      <td>PROD-A</td>\n",
       "    </tr>\n",
       "    <tr>\n",
       "      <th>1</th>\n",
       "      <td>2025-09-10 01:05:00</td>\n",
       "      <td>95.6</td>\n",
       "      <td>849.9</td>\n",
       "      <td>5.6</td>\n",
       "      <td>PROD-A</td>\n",
       "    </tr>\n",
       "    <tr>\n",
       "      <th>2</th>\n",
       "      <td>2025-09-10 01:10:00</td>\n",
       "      <td>95.4</td>\n",
       "      <td>850.0</td>\n",
       "      <td>5.5</td>\n",
       "      <td>PROD-A</td>\n",
       "    </tr>\n",
       "    <tr>\n",
       "      <th>3</th>\n",
       "      <td>2025-09-10 01:15:00</td>\n",
       "      <td>96.1</td>\n",
       "      <td>851.2</td>\n",
       "      <td>5.4</td>\n",
       "      <td>PROD-B</td>\n",
       "    </tr>\n",
       "    <tr>\n",
       "      <th>4</th>\n",
       "      <td>2025-09-10 01:20:00</td>\n",
       "      <td>96.2</td>\n",
       "      <td>851.0</td>\n",
       "      <td>5.3</td>\n",
       "      <td>PROD-B</td>\n",
       "    </tr>\n",
       "  </tbody>\n",
       "</table>\n",
       "</div>"
      ],
      "text/plain": [
       "             timestamp  temperatura_secador  velocidade_rolo_m_min  \\\n",
       "0  2025-09-10 01:00:00                 95.5                  850.1   \n",
       "1  2025-09-10 01:05:00                 95.6                  849.9   \n",
       "2  2025-09-10 01:10:00                 95.4                  850.0   \n",
       "3  2025-09-10 01:15:00                 96.1                  851.2   \n",
       "4  2025-09-10 01:20:00                 96.2                  851.0   \n",
       "\n",
       "   umidade_papel_percent codigo_produto  \n",
       "0                    5.5         PROD-A  \n",
       "1                    5.6         PROD-A  \n",
       "2                    5.5         PROD-A  \n",
       "3                    5.4         PROD-B  \n",
       "4                    5.3         PROD-B  "
      ]
     },
     "execution_count": 1,
     "metadata": {},
     "output_type": "execute_result"
    }
   ],
   "source": [
    "# Importando as bibliotecas necessárias\n",
    "import pandas as pd\n",
    "import matplotlib.pyplot as plt\n",
    "import seaborn as sns\n",
    "\n",
    "# Carregando os dados do arquivo CSV para um DataFrame\n",
    "df = pd.read_csv('dados_producao.csv')\n",
    "\n",
    "# Exibindo as 5 primeiras linhas para confirmar que os dados foram carregados\n",
    "df.head()"
   ]
  },
  {
   "cell_type": "markdown",
   "id": "414471b2",
   "metadata": {},
   "source": [
    "## 2. Inspeção Inicial dos Dados\n",
    "\n",
    "Nesta seção, faremos uma verificação inicial dos dados para entender sua estrutura, os tipos de cada coluna e um resumo estatístico geral."
   ]
  },
  {
   "cell_type": "code",
   "execution_count": 2,
   "id": "d7c52734",
   "metadata": {},
   "outputs": [
    {
     "name": "stdout",
     "output_type": "stream",
     "text": [
      "<class 'pandas.core.frame.DataFrame'>\n",
      "RangeIndex: 7 entries, 0 to 6\n",
      "Data columns (total 5 columns):\n",
      " #   Column                 Non-Null Count  Dtype  \n",
      "---  ------                 --------------  -----  \n",
      " 0   timestamp              7 non-null      object \n",
      " 1   temperatura_secador    7 non-null      float64\n",
      " 2   velocidade_rolo_m_min  7 non-null      float64\n",
      " 3   umidade_papel_percent  7 non-null      float64\n",
      " 4   codigo_produto         7 non-null      object \n",
      "dtypes: float64(3), object(2)\n",
      "memory usage: 412.0+ bytes\n"
     ]
    }
   ],
   "source": [
    "# Verificando os tipos de dados e valores nulos\n",
    "df.info()"
   ]
  },
  {
   "cell_type": "code",
   "execution_count": 3,
   "id": "34206c3c",
   "metadata": {},
   "outputs": [
    {
     "data": {
      "text/html": [
       "<div>\n",
       "<style scoped>\n",
       "    .dataframe tbody tr th:only-of-type {\n",
       "        vertical-align: middle;\n",
       "    }\n",
       "\n",
       "    .dataframe tbody tr th {\n",
       "        vertical-align: top;\n",
       "    }\n",
       "\n",
       "    .dataframe thead th {\n",
       "        text-align: right;\n",
       "    }\n",
       "</style>\n",
       "<table border=\"1\" class=\"dataframe\">\n",
       "  <thead>\n",
       "    <tr style=\"text-align: right;\">\n",
       "      <th></th>\n",
       "      <th>temperatura_secador</th>\n",
       "      <th>velocidade_rolo_m_min</th>\n",
       "      <th>umidade_papel_percent</th>\n",
       "    </tr>\n",
       "  </thead>\n",
       "  <tbody>\n",
       "    <tr>\n",
       "      <th>count</th>\n",
       "      <td>7.000000</td>\n",
       "      <td>7.000000</td>\n",
       "      <td>7.000000</td>\n",
       "    </tr>\n",
       "    <tr>\n",
       "      <th>mean</th>\n",
       "      <td>95.800000</td>\n",
       "      <td>850.471429</td>\n",
       "      <td>5.442857</td>\n",
       "    </tr>\n",
       "    <tr>\n",
       "      <th>std</th>\n",
       "      <td>0.382971</td>\n",
       "      <td>0.593617</td>\n",
       "      <td>0.113389</td>\n",
       "    </tr>\n",
       "    <tr>\n",
       "      <th>min</th>\n",
       "      <td>95.400000</td>\n",
       "      <td>849.900000</td>\n",
       "      <td>5.300000</td>\n",
       "    </tr>\n",
       "    <tr>\n",
       "      <th>25%</th>\n",
       "      <td>95.500000</td>\n",
       "      <td>850.000000</td>\n",
       "      <td>5.350000</td>\n",
       "    </tr>\n",
       "    <tr>\n",
       "      <th>50%</th>\n",
       "      <td>95.600000</td>\n",
       "      <td>850.100000</td>\n",
       "      <td>5.500000</td>\n",
       "    </tr>\n",
       "    <tr>\n",
       "      <th>75%</th>\n",
       "      <td>96.150000</td>\n",
       "      <td>851.050000</td>\n",
       "      <td>5.500000</td>\n",
       "    </tr>\n",
       "    <tr>\n",
       "      <th>max</th>\n",
       "      <td>96.300000</td>\n",
       "      <td>851.200000</td>\n",
       "      <td>5.600000</td>\n",
       "    </tr>\n",
       "  </tbody>\n",
       "</table>\n",
       "</div>"
      ],
      "text/plain": [
       "       temperatura_secador  velocidade_rolo_m_min  umidade_papel_percent\n",
       "count             7.000000               7.000000               7.000000\n",
       "mean             95.800000             850.471429               5.442857\n",
       "std               0.382971               0.593617               0.113389\n",
       "min              95.400000             849.900000               5.300000\n",
       "25%              95.500000             850.000000               5.350000\n",
       "50%              95.600000             850.100000               5.500000\n",
       "75%              96.150000             851.050000               5.500000\n",
       "max              96.300000             851.200000               5.600000"
      ]
     },
     "execution_count": 3,
     "metadata": {},
     "output_type": "execute_result"
    }
   ],
   "source": [
    "# Obtendo o resumo estatístico das colunas numéricas\n",
    "df.describe()"
   ]
  },
  {
   "cell_type": "markdown",
   "id": "b8f30bfc",
   "metadata": {},
   "source": [
    "## 3. Análise Exploratória: Respondendo Perguntas de Negócio\n",
    "\n",
    "Com os dados carregados e inspecionados, vamos agora aprofundar a análise para responder a perguntas específicas que um gestor de produção poderia ter.\n",
    "\n",
    "**Perguntas a serem respondidas:**\n",
    "1. Os parâmetros de processo, como temperatura e velocidade, se comportam de maneira diferente para cada tipo de produto?\n",
    "2. Qual a relação entre a temperatura do secador e a umidade final do papel?\n",
    "3. Qual produto opera com a maior velocidade média?"
   ]
  },
  {
   "cell_type": "code",
   "execution_count": 4,
   "id": "1d0bd8ed",
   "metadata": {},
   "outputs": [
    {
     "name": "stdout",
     "output_type": "stream",
     "text": [
      "--- Médias calculadas por produto ---\n",
      "                temperatura_secador  velocidade_rolo_m_min  \\\n",
      "codigo_produto                                               \n",
      "PROD-A                         95.5                  850.0   \n",
      "PROD-B                         96.2                  851.1   \n",
      "\n",
      "                umidade_papel_percent  \n",
      "codigo_produto                         \n",
      "PROD-A                       5.525000  \n",
      "PROD-B                       5.333333  \n",
      "\n",
      "--- Gráfico: Temperatura por Produto ---\n"
     ]
    },
    {
     "data": {
      "image/png": "[encoded data removed]",
      "text/plain": [
       "<Figure size 1000x600 with 1 Axes>"
      ]
     },
     "metadata": {},
     "output_type": "display_data"
    }
   ],
   "source": [
    "# ANÁLISE 1: Comportamento dos parâmetros por produto\n",
    "\n",
    "# Primeiro, vamos calcular as médias de cada parâmetro para cada produto usando groupby()\n",
    "medias_por_produto = df.groupby('codigo_produto').mean(numeric_only=True)\n",
    "print(\"--- Médias calculadas por produto ---\")\n",
    "print(medias_por_produto)\n",
    "\n",
    "# Agora, vamos visualizar a relação entre temperatura e produto\n",
    "print(\"\\n--- Gráfico: Temperatura por Produto ---\")\n",
    "# Converter timestamp para datetime para gráficos de série temporal (se ainda não estiver feito)\n",
    "# df['timestamp'] = pd.to_datetime(df['timestamp'])\n",
    "plt.figure(figsize=(10, 6))\n",
    "sns.scatterplot(data=df, x='timestamp', y='temperatura_secador', hue='codigo_produto', s=150)\n",
    "plt.plot(df['timestamp'], df['temperatura_secador'], alpha=0.5, color='grey', linestyle='--')\n",
    "plt.title('Temperatura do Secador por Produto')\n",
    "plt.xlabel('Linha do Tempo')\n",
    "plt.ylabel('Temperatura (°C)')\n",
    "plt.grid(True)\n",
    "plt.xticks(rotation=45)\n",
    "plt.legend(title='Produto')\n",
    "plt.show()"
   ]
  },
  {
   "cell_type": "markdown",
   "id": "6dd6104c",
   "metadata": {},
   "source": [
    "Conclusão 1: O gráfico de barras confirma que o Produto B possui a maior velocidade média de operação entre os dois produtos analisados.\"\n",
    " à medida que a temperatura aumenta (pontos mais à direita), a umidade diminui (pontos mais para baixo). Isso faz sentido: mais calor, menos água no papel. \n",
    "\n",
    " \"Conclusão 2: O gráfico revela uma correlação negativa entre a temperatura do secador e a umidade final do papel. Ou seja, quanto maior a temperatura aplicada no processo de secagem, menor é a umidade resultante na folha de papel.\"\n",
    "\n",
    "Conclusão 3: O gráfico de barras confirma que o Produto B possui a maior velocidade média de operação entre os dois produtos analisados.\"\n",
    "\n"
   ]
  },
  {
   "cell_type": "markdown",
   "id": "72ededc7",
   "metadata": {},
   "source": [
    "## 4. Conclusão Geral\n",
    "\n",
    "A presente análise dos dados de produção revelou insights importantes sobre o processo de fabricação. A principal descoberta é que os produtos 'A' e 'B' operam com 'receitas' de processo distintas, o que impacta diretamente as variáveis da máquina.\n",
    "\n",
    "Ficou claro que o Produto B exige uma temperatura e velocidade médias significativamente mais altas. Esta configuração está diretamente ligada a uma menor umidade final no papel, confirmando a forte correlação negativa entre a temperatura de secagem e a umidade resultante.\n",
    "\n",
    "Como próximos passos, uma análise futura poderia investigar o impacto dessas diferentes configurações no consumo de energia da linha ou em métricas de qualidade do produto final, como a resistência do papel.\n",
    "\n",
    "\n",
    "\n",
    "\n",
    "\n"
   ]
  }
 ],
 "metadata": {
  "kernelspec": {
   "display_name": ".venv",
   "language": "python",
   "name": "python3"
  },
  "language_info": {
   "codemirror_mode": {
    "name": "ipython",
    "version": 3
   },
   "file_extension": ".py",
   "mimetype": "text/x-python",
   "name": "python",
   "nbconvert_exporter": "python",
   "pygments_lexer": "ipython3",
   "version": "3.13.5"
  }
 },
 "nbformat": 4,
 "nbformat_minor": 5
}
